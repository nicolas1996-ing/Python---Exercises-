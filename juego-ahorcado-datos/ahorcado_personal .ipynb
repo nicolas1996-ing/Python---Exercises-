{
  "nbformat": 4,
  "nbformat_minor": 0,
  "metadata": {
    "colab": {
      "name": "ahorcado_personal.ipynb",
      "provenance": [],
      "collapsed_sections": []
    },
    "kernelspec": {
      "name": "python3",
      "display_name": "Python 3"
    },
    "language_info": {
      "name": "python"
    }
  },
  "cells": [
    {
      "cell_type": "markdown",
      "metadata": {
        "id": "Q5XLm3mmFGfU"
      },
      "source": [
        "Juego del ahorcado _ Edición personal "
      ]
    },
    {
      "cell_type": "code",
      "metadata": {
        "id": "2R1St4hPE5vU"
      },
      "source": [
        "# función para retonrar indices de un caracter dentro de una palabra \n",
        "def compararLetra(palabra,letra):\n",
        "  palabra.lower\n",
        "  letra.lower\n",
        "  indice = []\n",
        " \n",
        "  if (letra in palabra):\n",
        "    for i in range(len(palabra)):\n",
        "      if (palabra[i] == letra): indice.append(i)\n",
        "  return (indice)"
      ],
      "execution_count": 1,
      "outputs": []
    },
    {
      "cell_type": "code",
      "metadata": {
        "id": "yYjpsVMtd-ct"
      },
      "source": [
        "# función que reagrupa palabras separadas por (,)\n",
        "def manejoComas(a):\n",
        "  b = []\n",
        "  for i in range(len(a)): \n",
        "    if (',' in a[i]): # posiciones de lista con más de una palabra\n",
        "      aux = (a[i].split(',')) # separación de palabras - crea nueva lista\n",
        "      for k in range(len(aux)):\n",
        "        b.append(aux[k])\n",
        "    else:\n",
        "      b.append(a[i])\n",
        "  return b"
      ],
      "execution_count": 2,
      "outputs": []
    },
    {
      "cell_type": "code",
      "metadata": {
        "id": "DwupaCiKeapv"
      },
      "source": [
        "# función para reemplazar vocales con tilde\n",
        "def reempVocales(listaPalabras):\n",
        "  vocalesT = ['á','é','í','ó','ú']\n",
        "  vocalesST = ['a','e','i','o','u']\n",
        "  n_lista = []\n",
        "\n",
        "  for i in listaPalabras:\n",
        "    palLista = list (i) # cada palabra se convierte en una lista\n",
        "    for j in range(len(palLista)): # recorre cada espacio de la lista\n",
        "      for k in range(len(vocalesT)):\n",
        "        if (palLista[j] == vocalesT[k]):\n",
        "          palLista[j] = vocalesST[k]\n",
        "    n_lista.append(\"\".join(palLista)) # agrego la palabras modificada sin tildes\n",
        "\n",
        "  return n_lista"
      ],
      "execution_count": 3,
      "outputs": []
    },
    {
      "cell_type": "code",
      "metadata": {
        "id": "iXWc_yg_C97j"
      },
      "source": [
        "# funcion para eliminar '\\n' de algunas palabras\n",
        "\n",
        "def eliminarEspacios(listaPalabras):\n",
        "  palabrasSinEspacio = []\n",
        "\n",
        "  for palabra in listaPalabras:\n",
        "    if ('\\n' in palabra): # se verifica si hay un espacio en la palabra \n",
        "      indice = compararLetra('\\n', palabra)\n",
        "      \n",
        "      if indice != []:\n",
        "        if (indice[0] == 0): n_palabra = palabra[1:]\n",
        "        else : n_palabra = palabra[0:-1] # nueva palabra sin espacios \n",
        "\n",
        "        palabrasSinEspacio.append(n_palabra) # almacenamiento\n",
        "    else:\n",
        "      palabrasSinEspacio.append(palabra)\n",
        "  \n",
        "  return palabrasSinEspacio"
      ],
      "execution_count": 75,
      "outputs": []
    },
    {
      "cell_type": "code",
      "metadata": {
        "id": "p7AyUnhCLwMG"
      },
      "source": [
        "# Listas de palabras para el juego }\n",
        "\n",
        "comida = open ('comida.txt','r') # file write \n",
        "animal = open ('animales.txt','r')\n",
        "humanidad = open ('humanidad.txt', 'r')\n",
        "\n",
        "# listas palabras ordenadas sin (,) y sin tildes \n",
        "comidas = eliminarEspacios(reempVocales(manejoComas([j for j in comida]))) # list comprehension \n",
        "animales = eliminarEspacios(reempVocales(manejoComas([i for i in animal])))\n",
        "humanidades = eliminarEspacios(reempVocales(manejoComas([k for k in humanidad])))\n"
      ],
      "execution_count": 76,
      "outputs": []
    },
    {
      "cell_type": "code",
      "metadata": {
        "colab": {
          "base_uri": "https://localhost:8080/"
        },
        "id": "h5oeYuSR64xq",
        "outputId": "2505e03b-4674-4019-cb6f-20489c5cbda0"
      },
      "source": [
        "# funcion para generar palabra aleatoria \n",
        "def generarPalabra(topico):\n",
        "  from random import randint\n",
        "  topicos = ['c','a','h'] # topics \n",
        "\n",
        "  if (topico in topicos):\n",
        "    listaPalabras = {'c':comidas, 'a':animales, 'h':humanidades}\n",
        "    listaElegida = listaPalabras[topico]\n",
        "    palabraElegida = listaElegida[randint(0,len(listaElegida)-1)]\n",
        "    return palabraElegida\n",
        "  else:\n",
        "    return False \n"
      ],
      "execution_count": 92,
      "outputs": [
        {
          "output_type": "stream",
          "text": [
            "niño\n",
            "4\n"
          ],
          "name": "stdout"
        }
      ]
    },
    {
      "cell_type": "code",
      "metadata": {
        "id": "ryBh5bvkE_JN"
      },
      "source": [
        "def jugar_ahor(word):\n",
        "  #word = 'amor'\n",
        "  word.lower() \n",
        "  longPalabra = 0\n",
        "  live = 5\n",
        "  n_palabra = [' _ ']*len(word)\n",
        "  lista_letras = [] # lista para almacenar letras \n",
        "\n",
        "  while live > 0:\n",
        "    letter = input('ingrese letra : ')\n",
        "    letter.lower() # minuscula \n",
        "\n",
        "    while (letter in lista_letras): # verificación de que no se nombre letra repetida\n",
        "      letter = input('repetida, ingrese letra : ')\n",
        "    lista_letras.append(letter)\n",
        "\n",
        "    indices = compararLetra(word, letter)\n",
        "    \n",
        "    if (len(indices) == 0):\n",
        "      live -= 1\n",
        "      print('tienes : '+ str (live) + ' vidas disponibles')\n",
        "      print(n_palabra)\n",
        "    else:\n",
        "      for i in indices:\n",
        "        n_palabra[i] = word[i]\n",
        "        print(n_palabra)\n",
        "        longPalabra += 1\n",
        "      if longPalabra == len(word):\n",
        "        live = 0\n",
        "        print(' Ganaste !')\n",
        "\n",
        "    if live == 0 and (longPalabra != len(word)):\n",
        "      print(' Perdiste !')\n",
        "      print('La palabra era : '+str(word))\n",
        "      "
      ],
      "execution_count": 99,
      "outputs": []
    },
    {
      "cell_type": "code",
      "metadata": {
        "colab": {
          "base_uri": "https://localhost:8080/"
        },
        "id": "rX-VHiMlwmt3",
        "outputId": "15ce96bd-f886-4b76-a886-9434ad2a8595"
      },
      "source": [
        "# juego \n",
        "\n",
        "listaTopicosDips = {'c': 'Comidas', 'a': 'Animales', 'h': 'Humanidades'}\n",
        "print('Topicos disponibles : ', listaTopicosDips)\n",
        "inicioJuego = input('ingrese un topico ')\n",
        "\n",
        "adivinarPalabra = generarPalabra(inicioJuego) \n",
        "if (adivinarPalabra):\n",
        "  jugar_ahor(adivinarPalabra)\n",
        "else:\n",
        "  print('Error al elegir tópico')\n"
      ],
      "execution_count": 103,
      "outputs": [
        {
          "output_type": "stream",
          "text": [
            "Topicos disponibles :  {'c': 'Comidas', 'a': 'Animales', 'h': 'Humanidades'}\n",
            "ingrese un topico h\n",
            "ingrese letra : a\n",
            "tienes : 4 vidas disponibles\n",
            "[' _ ', ' _ ', ' _ ', ' _ ', ' _ ']\n",
            "ingrese letra : e\n",
            "[' _ ', 'e', ' _ ', ' _ ', ' _ ']\n",
            "ingrese letra : l\n",
            "tienes : 3 vidas disponibles\n",
            "[' _ ', 'e', ' _ ', ' _ ', ' _ ']\n",
            "ingrese letra : m\n",
            "tienes : 2 vidas disponibles\n",
            "[' _ ', 'e', ' _ ', ' _ ', ' _ ']\n",
            "ingrese letra : o\n",
            "[' _ ', 'e', ' _ ', 'o', ' _ ']\n",
            "ingrese letra : s\n",
            "['s', 'e', ' _ ', 'o', ' _ ']\n",
            "ingrese letra : ñ\n",
            "['s', 'e', 'ñ', 'o', ' _ ']\n",
            "ingrese letra : r\n",
            "['s', 'e', 'ñ', 'o', 'r']\n",
            " Ganaste !\n"
          ],
          "name": "stdout"
        }
      ]
    },
    {
      "cell_type": "code",
      "metadata": {
        "id": "xZvr7f6DIzxp"
      },
      "source": [
        ""
      ],
      "execution_count": null,
      "outputs": []
    }
  ]
}