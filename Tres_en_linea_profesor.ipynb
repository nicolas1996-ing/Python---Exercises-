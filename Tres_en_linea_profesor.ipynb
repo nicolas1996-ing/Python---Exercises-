{
  "nbformat": 4,
  "nbformat_minor": 0,
  "metadata": {
    "colab": {
      "name": "Tres_en_linea_profesor.ipynb",
      "provenance": [],
      "collapsed_sections": []
    },
    "kernelspec": {
      "name": "python3",
      "display_name": "Python 3"
    },
    "language_info": {
      "name": "python"
    }
  },
  "cells": [
    {
      "cell_type": "markdown",
      "metadata": {
        "id": "v8tRj7JJUdQf"
      },
      "source": [
        "# Tres en linea"
      ]
    },
    {
      "cell_type": "markdown",
      "metadata": {
        "id": "6-SI6gVxCBLn"
      },
      "source": [
        "Hay dos jugadores; uno juega con el símbolo X y el otro juega con el símbolo O. Los ambos mueven alternativamente y el jugador X empieza. Pueden colocar sus símbolos solamente en cuadrados vacíos. Inicialmente, el tablero consiste de 9 casillas vacías, alineadas en un tablero 3x3. El objetivo del juego es colocar 3 símbolos propios en una columna, fila o diagonal. Si el tablero es relleno pero ninguno de los jugadores consiguió este objetivo, el partido acaba en empate."
      ]
    },
    {
      "cell_type": "code",
      "metadata": {
        "colab": {
          "base_uri": "https://localhost:8080/"
        },
        "id": "5eBsM5s3B4I8",
        "outputId": "42f7e19f-cb12-4659-8829-b68bd2439cdb"
      },
      "source": [
        "#implemente su código aquí\n",
        "'''\n",
        "- Símbolo de O y X\n",
        "- Los jugadores deben seleccionar el espacio\n",
        "- Tablero\n",
        "- Identificación de si están los tres en linea\n",
        "- Revisar si la casilla está vacía \n",
        "- Turno de un jugador\n",
        "- Subrayar \n",
        "- Preguntar al usuario si quiere el historial\n",
        "\n",
        "'''\n",
        "\n",
        "def dibujartablero(tablero):\n",
        "  '''\n",
        "  Debe retornar en la consola la figura de un tablero\n",
        "  Inputs: tablero: Matriz o elemento que contenga la información sobre el juego\n",
        "  '''\n",
        "  \n",
        "  print(' '+tablero[7]+ ' | '+tablero[8]+ ' | '+tablero[9]+ '  ') # concatenación\n",
        "  print('-----------')\n",
        "\n",
        "  print(' '+tablero[4]+ ' | '+tablero[5]+ ' | '+tablero[6]+ '  ')\n",
        "  print('-----------')\n",
        "\n",
        "  print(' '+tablero[1]+ ' | '+tablero[2]+ ' | '+tablero[3]+ '  ')\n",
        "\n",
        "tab = [' ']*10\n",
        "\n",
        "dibujartablero(tab)\n"
      ],
      "execution_count": 1,
      "outputs": [
        {
          "output_type": "stream",
          "text": [
            "   |   |    \n",
            "-----------\n",
            "   |   |    \n",
            "-----------\n",
            "   |   |    \n"
          ],
          "name": "stdout"
        }
      ]
    },
    {
      "cell_type": "code",
      "metadata": {
        "id": "F9zxX3tqCuPh"
      },
      "source": [
        "def turno( jugador, tablero):\n",
        "  '''\n",
        "      Parametros:\n",
        "        jugador: 'X' o 'O'\n",
        "        tablero: La matriz que contiene las jugadas\n",
        "  '''\n",
        "  #Revisamos que la posición selecciona es válida. \n",
        "  while True:\n",
        "    posicion = int(input('Ingrese una posición ')) # posición 1...9\n",
        "    if (tablero[posicion] == ' '): # verificación que la casilla esté vacia \n",
        "      tablero[posicion] = jugador \n",
        "      dibujartablero(tablero)\n",
        "      break \n",
        "    else:\n",
        "      print('La posición ya se encuentra ocupada. Ingrese una válida')\n",
        "      dibujartablero(tablero)"
      ],
      "execution_count": 2,
      "outputs": []
    },
    {
      "cell_type": "code",
      "metadata": {
        "id": "5OF81Z-EfGvH"
      },
      "source": [
        "def revision_ganar(tablero, jugador):\n",
        "  ''' Función que revisa si existen ganadores'''\n",
        "  finalizado = False # variable que indica estado del juego : ganador - perdedor\n",
        "\n",
        "  #Horizontal\n",
        "  if (tablero[1] ==jugador and tablero[2] ==jugador and tablero[3] ==jugador ):\n",
        "    finalizado = True\n",
        "  elif (tablero[4] ==jugador and tablero[5] ==jugador and tablero[6] ==jugador ):\n",
        "    finalizado = True\n",
        "  elif (tablero[7] ==jugador and tablero[8] ==jugador and tablero[9] ==jugador ):\n",
        "    finalizado = True\n",
        "  #Vertical \n",
        "  elif (tablero[1] ==jugador and tablero[4] ==jugador and tablero[7] ==jugador ):\n",
        "    finalizado = True\n",
        "  elif (tablero[2] ==jugador and tablero[5] ==jugador and tablero[8] ==jugador ):\n",
        "    finalizado = True\n",
        "  elif (tablero[3] ==jugador and tablero[6] ==jugador and tablero[9] ==jugador ):\n",
        "    finalizado = True\n",
        "  #Diagonal\n",
        "  elif (tablero[1] ==jugador and tablero[5] ==jugador and tablero[9] ==jugador ):\n",
        "    finalizado = True\n",
        "  elif (tablero[3] ==jugador and tablero[5] ==jugador and tablero[7] ==jugador ):\n",
        "    finalizado = True\n",
        "  return finalizado"
      ],
      "execution_count": 3,
      "outputs": []
    },
    {
      "cell_type": "code",
      "metadata": {
        "colab": {
          "base_uri": "https://localhost:8080/"
        },
        "id": "IqnZRuRqgQ8t",
        "outputId": "485e0467-12d6-42bd-ec6b-9a4ca142a236"
      },
      "source": [
        "import os\n",
        "def clear():\n",
        "  os.system('clear')\n",
        "\n",
        "turno_de_juego =0\n",
        "tab = [' ']*10\n",
        "SeEstaJugando = True #Se vuelve falso cuando existe un ganador\n",
        "while SeEstaJugando:\n",
        "  clear()\n",
        "  usuario1, usuario2 = ['X','O']\n",
        "  usuario = ' '\n",
        "  if (turno_de_juego%2==0):\n",
        "    usuario = usuario1\n",
        "  else:\n",
        "    usuario = usuario2\n",
        "  turno_de_juego +=1\n",
        "  turno(usuario,tab)\n",
        "  if (revision_ganar(tab, usuario)):\n",
        "    SeEstaJugando=False\n",
        "    print('\\n' + ' '+usuario + ' ha ganado')\n",
        "  elif (turno_de_juego == 9):\n",
        "    print( '\\n empatados')\n",
        "    SeEstaJugando = False\n",
        "  "
      ],
      "execution_count": 4,
      "outputs": [
        {
          "output_type": "stream",
          "text": [
            "Ingrese una posición 9\n",
            "   |   | X  \n",
            "-----------\n",
            "   |   |    \n",
            "-----------\n",
            "   |   |    \n",
            "Ingrese una posición 8\n",
            "   | O | X  \n",
            "-----------\n",
            "   |   |    \n",
            "-----------\n",
            "   |   |    \n",
            "Ingrese una posición 7\n",
            " X | O | X  \n",
            "-----------\n",
            "   |   |    \n",
            "-----------\n",
            "   |   |    \n",
            "Ingrese una posición 6\n",
            " X | O | X  \n",
            "-----------\n",
            "   |   | O  \n",
            "-----------\n",
            "   |   |    \n",
            "Ingrese una posición 2\n",
            " X | O | X  \n",
            "-----------\n",
            "   |   | O  \n",
            "-----------\n",
            "   | X |    \n",
            "Ingrese una posición 3\n",
            " X | O | X  \n",
            "-----------\n",
            "   |   | O  \n",
            "-----------\n",
            "   | X | O  \n",
            "Ingrese una posición 5\n",
            " X | O | X  \n",
            "-----------\n",
            "   | X | O  \n",
            "-----------\n",
            "   | X | O  \n",
            "Ingrese una posición 5\n",
            "La posición ya se encuentra ocupada. Ingrese una válida\n",
            " X | O | X  \n",
            "-----------\n",
            "   | X | O  \n",
            "-----------\n",
            "   | X | O  \n",
            "Ingrese una posición 6\n",
            "La posición ya se encuentra ocupada. Ingrese una válida\n",
            " X | O | X  \n",
            "-----------\n",
            "   | X | O  \n",
            "-----------\n",
            "   | X | O  \n",
            "Ingrese una posición 1\n",
            " X | O | X  \n",
            "-----------\n",
            "   | X | O  \n",
            "-----------\n",
            " O | X | O  \n",
            "Ingrese una posición 6\n",
            "La posición ya se encuentra ocupada. Ingrese una válida\n",
            " X | O | X  \n",
            "-----------\n",
            "   | X | O  \n",
            "-----------\n",
            " O | X | O  \n",
            "Ingrese una posición 7\n",
            "La posición ya se encuentra ocupada. Ingrese una válida\n",
            " X | O | X  \n",
            "-----------\n",
            "   | X | O  \n",
            "-----------\n",
            " O | X | O  \n",
            "Ingrese una posición 4\n",
            " X | O | X  \n",
            "-----------\n",
            " X | X | O  \n",
            "-----------\n",
            " O | X | O  \n",
            "\n",
            " empatados\n"
          ],
          "name": "stdout"
        }
      ]
    },
    {
      "cell_type": "code",
      "metadata": {
        "id": "4Mi4i_wFFnre"
      },
      "source": [
        ""
      ],
      "execution_count": null,
      "outputs": []
    }
  ]
}