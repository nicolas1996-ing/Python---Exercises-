{
  "nbformat": 4,
  "nbformat_minor": 0,
  "metadata": {
    "colab": {
      "name": "ahorcado_personal.ipynb",
      "provenance": []
    },
    "kernelspec": {
      "name": "python3",
      "display_name": "Python 3"
    },
    "language_info": {
      "name": "python"
    }
  },
  "cells": [
    {
      "cell_type": "markdown",
      "metadata": {
        "id": "Q5XLm3mmFGfU"
      },
      "source": [
        "Juego del ahorcado _ Edición personal "
      ]
    },
    {
      "cell_type": "code",
      "metadata": {
        "id": "2R1St4hPE5vU"
      },
      "source": [
        "# función para retonrar indices de un caracter dentro de una palabra \n",
        "def compararLetra(palabra,letra):\n",
        "  palabra.lower\n",
        "  letra.lower\n",
        "  indice = []\n",
        " \n",
        "  if (letra in palabra):\n",
        "    for i in range(len(palabra)):\n",
        "      if (palabra[i] == letra): indice.append(i)\n",
        "  return (indice)"
      ],
      "execution_count": 1,
      "outputs": []
    },
    {
      "cell_type": "code",
      "metadata": {
        "colab": {
          "base_uri": "https://localhost:8080/"
        },
        "id": "ryBh5bvkE_JN",
        "outputId": "3e7cbeec-4d1d-4c4d-cabc-278f074e9b59"
      },
      "source": [
        "word = 'amor'\n",
        "word.lower() \n",
        "longPalabra = 0\n",
        "live = 3\n",
        "n_palabra = [' _ ']*len(word)\n",
        "\n",
        "while live > 0:\n",
        "  letter = input('ingrese letra : ')\n",
        "  letter.lower() # minuscula \n",
        "\n",
        "  indices = compararLetra(word, letter)\n",
        "  \n",
        "  if (len(indices) == 0):\n",
        "    live -= 1\n",
        "    print('tienes : '+ str (live) + ' vidas disponibles')\n",
        "    print(n_palabra)\n",
        "  else:\n",
        "    for i in indices:\n",
        "      n_palabra[i] = word[i]\n",
        "      print(n_palabra)\n",
        "      longPalabra += 1\n",
        "    if longPalabra == len(word):\n",
        "      live = 0\n",
        "      print(' Ganaste !')\n",
        "\n",
        "  if live == 0 and (longPalabra != len(word)):\n",
        "    print(' Perdiste !')\n",
        "    "
      ],
      "execution_count": 2,
      "outputs": [
        {
          "output_type": "stream",
          "text": [
            "ingrese letra : a\n",
            "['a', ' _ ', ' _ ', ' _ ']\n",
            "ingrese letra : k\n",
            "tienes : 2 vidas disponibles\n",
            "['a', ' _ ', ' _ ', ' _ ']\n",
            "ingrese letra : m\n",
            "['a', 'm', ' _ ', ' _ ']\n",
            "ingrese letra : o\n",
            "['a', 'm', 'o', ' _ ']\n",
            "ingrese letra : e\n",
            "tienes : 1 vidas disponibles\n",
            "['a', 'm', 'o', ' _ ']\n",
            "ingrese letra : r\n",
            "['a', 'm', 'o', 'r']\n",
            " Ganaste !\n"
          ],
          "name": "stdout"
        }
      ]
    },
    {
      "cell_type": "code",
      "metadata": {
        "id": "jDH8nSuRFZT3"
      },
      "source": [
        ""
      ],
      "execution_count": null,
      "outputs": []
    }
  ]
}