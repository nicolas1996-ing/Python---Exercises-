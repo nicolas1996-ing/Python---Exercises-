{
  "nbformat": 4,
  "nbformat_minor": 0,
  "metadata": {
    "colab": {
      "name": " Matrices - Introducción - Resuelto.ipynb",
      "provenance": [],
      "toc_visible": true
    },
    "kernelspec": {
      "name": "python3",
      "display_name": "Python 3"
    },
    "language_info": {
      "name": "python"
    }
  },
  "cells": [
    {
      "cell_type": "markdown",
      "metadata": {
        "id": "RE4UTxdbFwjN"
      },
      "source": [
        "## Juego de la vida de Conway"
      ]
    },
    {
      "cell_type": "markdown",
      "metadata": {
        "id": "XmZoAua3F1A1"
      },
      "source": [
        "El juego de la vida de Conway es un simulador de autómatas celulares, pero aplicable a múltiples procesos de características binarias en dónde se pueden catalogar dos estados: vivo o muerto.\n",
        "\n",
        "**Reglas:**\n",
        "\n",
        "1. Sobrevive: si la célula tiene dos o tres individuos vivos vive la siguiente generación.\n",
        "2. Muerte:\n",
        ">> - Tiene menos de dos vecinos, muere.\n",
        ">> - Tiene más de tres vecinos, muere.\n",
        "3. Nacimiento: si una celda vacía pasa a tener exactamente tres celdas vecinas en su estado, nace una nueva célula\n",
        "\n",
        "\n"
      ]
    },
    {
      "cell_type": "code",
      "metadata": {
        "colab": {
          "base_uri": "https://localhost:8080/",
          "height": 1000
        },
        "id": "A3af5-TeFrgx",
        "outputId": "80cfe800-361c-4dc1-fc08-cd5f012bc6c5"
      },
      "source": [
        "import numpy as np\n",
        "import matplotlib.pyplot as plt\n",
        "\n",
        "\n",
        "tam =20#Tamano de la matriz\n",
        "#La matriz M inicializa una matriz con 0s o 1s con un tamano dado por la variable tam\n",
        "Z = np.random.randint(2, size=(tam, tam))\n",
        "plt.imshow(Z)\n",
        "def iterar(Z):\n",
        "    # Conteo de vecinos\n",
        "    Veci = (Z[0:-2,0:-2] + Z[0:-2,1:-1] + Z[0:-2,2:] +\n",
        "         Z[1:-1,0:-2]                + Z[1:-1,2:] +\n",
        "         Z[2:  ,0:-2] + Z[2:  ,1:-1] + Z[2:  ,2:])\n",
        "\n",
        "    # Creamos las reglas que me digan cuándo va a vivir en la siguiente generación\n",
        "    '''Nota que es más fácil poder especificar cuándo estará vivo y eliminar todas las otras celdas'''\n",
        "    nace = (Veci==3) & (Z[1:-1,1:-1]==0) #Busca todos los  índices que tengan 3 vecinos y estén muertos\n",
        "    sobrevive = ((Veci==2) | (Veci==3)) & (Z[1:-1,1:-1]==1) #Busca todos los que tengan 2 o 3 vecinos y estén vivos\n",
        "\n",
        "    Z[:,:] = 0 #Elimino todas las celdas\n",
        "    Z[1:-1,1:-1][nace | sobrevive] = 1 #Busco todas las celdas que van a nacer y a sobrevivir y le asigno un 1.\n",
        "    return Z\n",
        "\n",
        "for i in range(5): \n",
        "  Z=iterar(Z)\n",
        "  plt.imshow(Z)\n",
        "  plt.show()\n",
        "\n",
        "\n",
        "\n"
      ],
      "execution_count": null,
      "outputs": [
        {
          "output_type": "display_data",
          "data": {
            "image/png": "[encoded data removed]",
            "text/plain": [
              "<Figure size 432x288 with 1 Axes>"
            ]
          },
          "metadata": {
            "tags": [],
            "needs_background": "light"
          }
        },
        {
          "output_type": "display_data",
          "data": {
            "image/png": "[encoded data removed]",
            "text/plain": [
              "<Figure size 432x288 with 1 Axes>"
            ]
          },
          "metadata": {
            "tags": [],
            "needs_background": "light"
          }
        },
        {
          "output_type": "display_data",
          "data": {
            "image/png": "[encoded data removed]",
            "text/plain": [
              "<Figure size 432x288 with 1 Axes>"
            ]
          },
          "metadata": {
            "tags": [],
            "needs_background": "light"
          }
        },
        {
          "output_type": "display_data",
          "data": {
            "image/png": "[encoded data removed]",
            "text/plain": [
              "<Figure size 432x288 with 1 Axes>"
            ]
          },
          "metadata": {
            "tags": [],
            "needs_background": "light"
          }
        },
        {
          "output_type": "display_data",
          "data": {
            "image/png": "[encoded data removed]",
            "text/plain": [
              "<Figure size 432x288 with 1 Axes>"
            ]
          },
          "metadata": {
            "tags": [],
            "needs_background": "light"
          }
        }
      ]
    },
    {
      "cell_type": "code",
      "metadata": {
        "id": "H1ONSrXmFzb3"
      },
      "source": [
        ""
      ],
      "execution_count": null,
      "outputs": []
    },
    {
      "cell_type": "markdown",
      "metadata": {
        "id": "r3zf6PnXGTx-"
      },
      "source": [
        "# Desafío"
      ]
    },
    {
      "cell_type": "markdown",
      "metadata": {
        "id": "tHHGUOX3GXCd"
      },
      "source": [
        "Crea un juego de Tic - Toc - en dónde utilices se le pregunte al usuario 1 y al usuario 2 la casilla donde deseen jugar.  Utiliza la librería Numpy y la función input para pedirle al usuario por consola que ingrese cada usuario el lugar donde jugará (x,y), planea las reglas y selecciona los condicionales correctos.\n",
        "¿Cuáles son las reglas para empatar, ganar y perder en el juego? "
      ]
    },
    {
      "cell_type": "code",
      "metadata": {
        "id": "erw6KFnmGWDl",
        "outputId": "fb487818-afbe-4976-c031-74dde60c2792",
        "colab": {
          "base_uri": "https://localhost:8080/"
        }
      },
      "source": [
        "import numpy as np\n",
        "import matplotlib.pyplot as plt\n",
        "\n",
        "\n",
        "tam =20#Tamano de la matriz\n",
        "#La matriz M inicializa una matriz con 0s o 1s con un tamano dado por la variable tam\n",
        "Z = np.random.randint(2, size=(tam, tam))\n",
        "print(Z)"
      ],
      "execution_count": 2,
      "outputs": [
        {
          "output_type": "stream",
          "text": [
            "[[2 0 0 0 0 0 2 0 0 2 2 0 2 0 2 0 2 2 0 2]\n",
            " [0 2 2 0 2 0 0 0 2 0 2 0 2 0 0 2 0 2 0 2]\n",
            " [0 0 0 0 2 2 2 2 2 2 0 0 2 2 2 0 0 0 2 0]\n",
            " [2 2 2 2 0 2 0 0 2 0 0 0 2 2 2 0 2 0 2 0]\n",
            " [2 0 0 2 0 2 0 0 0 0 2 2 2 0 2 2 0 2 0 2]\n",
            " [2 0 2 0 0 0 0 2 2 2 2 0 0 2 0 0 0 0 2 0]\n",
            " [0 0 2 2 0 2 0 0 2 0 0 0 2 0 0 0 0 0 0 0]\n",
            " [2 0 2 2 2 0 0 0 2 0 0 2 2 0 2 2 0 0 0 2]\n",
            " [2 0 2 2 2 0 0 2 0 0 0 2 2 0 0 0 0 0 0 0]\n",
            " [0 2 2 0 2 2 2 0 2 0 2 2 2 2 2 2 0 0 2 0]\n",
            " [0 2 2 0 0 0 2 2 2 2 2 0 2 2 0 0 0 0 0 2]\n",
            " [0 0 2 2 2 0 2 0 0 2 2 0 0 0 2 0 2 2 0 0]\n",
            " [0 0 0 2 0 2 0 0 2 2 2 2 2 0 0 0 0 2 0 2]\n",
            " [2 2 0 2 0 2 0 0 0 2 0 2 2 0 0 2 2 2 0 0]\n",
            " [2 2 0 2 0 0 2 0 2 0 2 0 0 0 0 0 2 0 2 0]\n",
            " [2 2 0 0 2 2 0 0 0 0 0 0 2 2 0 2 0 2 2 2]\n",
            " [0 0 0 2 2 2 0 2 0 2 0 0 2 0 2 0 2 2 0 2]\n",
            " [2 0 0 0 0 2 2 2 2 2 2 0 2 2 2 0 2 0 0 2]\n",
            " [0 2 0 2 0 0 2 0 2 2 2 2 2 2 0 2 0 0 2 2]\n",
            " [0 2 2 0 2 0 0 0 0 0 0 0 0 2 0 2 0 0 0 0]]\n"
          ],
          "name": "stdout"
        }
      ]
    },
    {
      "cell_type": "code",
      "metadata": {
        "id": "wGU5GScK5nLn"
      },
      "source": [
        ""
      ],
      "execution_count": null,
      "outputs": []
    }
  ]
}