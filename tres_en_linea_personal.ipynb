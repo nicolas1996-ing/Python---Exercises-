{
  "nbformat": 4,
  "nbformat_minor": 0,
  "metadata": {
    "colab": {
      "name": "tres_en_linea_personal.ipynb",
      "provenance": [],
      "collapsed_sections": []
    },
    "kernelspec": {
      "name": "python3",
      "display_name": "Python 3"
    },
    "language_info": {
      "name": "python"
    }
  },
  "cells": [
    {
      "cell_type": "markdown",
      "metadata": {
        "id": "Y68P6S7Vt_U4"
      },
      "source": [
        ""
      ]
    },
    {
      "cell_type": "markdown",
      "metadata": {
        "id": "RyrddGNXuCOH"
      },
      "source": [
        "Simulación - Tres en linea "
      ]
    },
    {
      "cell_type": "markdown",
      "metadata": {
        "id": "10dhxDL82P_J"
      },
      "source": [
        "Pseudocodigo \n",
        "\n",
        "1.   Función para dibujar tablero >> dibujarTablero()\n",
        "2.   Función para verificar/dibujar jugada >> turno()\n",
        "3.   Función para verificar si hubo ganador >> revision_ganador()\n",
        "4.   Bloque para iniciar juego \n",
        "\n",
        "Paso a paso \n",
        "\n",
        "\n",
        "*  Asignación de turno \n",
        "*  Llamado a la función 'turno()' que solicita jugada y dibuja tablero (si la jugada es válida) \n",
        "*  Verificación si hay un ganador 'revisión_ganador()' \n",
        "\n",
        "\n",
        "  \n",
        "\n"
      ]
    },
    {
      "cell_type": "code",
      "metadata": {
        "colab": {
          "base_uri": "https://localhost:8080/"
        },
        "id": "ntvwWqBOtqsR",
        "outputId": "1e8ae491-4739-4fbd-c10c-769b10f64b8b"
      },
      "source": [
        "# bloque para dibujar y actualizar tablero de juego\n",
        "def dibujarTablero(tablero):\n",
        "  for i in [7,4,1]:\n",
        "    print(' '+tablero[i]+ ' | '+tablero[i+1]+ ' | '+tablero[i+2]+ '  ') # concatenación\n",
        "    if (i != 1): print('-----------')\n",
        "\n",
        "tab = [' ']*10\n",
        "dibujarTablero(tab)"
      ],
      "execution_count": 14,
      "outputs": [
        {
          "output_type": "stream",
          "text": [
            "   |   |    \n",
            "-----------\n",
            "   |   |    \n",
            "-----------\n",
            "   |   |    \n"
          ],
          "name": "stdout"
        }
      ]
    },
    {
      "cell_type": "code",
      "metadata": {
        "id": "e7aXot2AuFsz"
      },
      "source": [
        "# bloque para turnos de jugador \n",
        "def turno( jugador, tablero):\n",
        "  '''\n",
        "      Parametros:\n",
        "        jugador: 'X' o 'O'\n",
        "        tablero: La matriz que contiene las jugadas\n",
        "  '''\n",
        "  #Revisamos que la posición selecciona es válida. \n",
        "  while True:\n",
        "    posicion = int(input('Ingrese una posición ')) # posición 1...9\n",
        "    if (tablero[posicion] == ' '): # verificación que la casilla esté vacia \n",
        "      tablero[posicion] = jugador # almacenamiento posición valida \n",
        "      dibujarTablero(tablero) # dibujar la posición valida \n",
        "      break \n",
        "    else:\n",
        "      print('La posición ya se encuentra ocupada. Ingrese una válida')\n",
        "      dibujarTablero(tablero)"
      ],
      "execution_count": 2,
      "outputs": []
    },
    {
      "cell_type": "code",
      "metadata": {
        "id": "vpQ4zFcqua_z"
      },
      "source": [
        "# verificación de ganador \n",
        "\n",
        "def revision_ganar(tablero, jugador):\n",
        "  ''' Función que revisa si existen ganadores'''\n",
        "  finalizado = False # variable que indica estado del juego : ganador - perdedor\n",
        "  aux = True \n",
        "  \n",
        "  horizontales = [1,4,7] # Ganador - horizonatales\n",
        "  for i in horizontales: \n",
        "    if (tablero[i] == jugador and tablero[i+1] == jugador and tablero[i+2] == jugador): \n",
        "      finalizado = True \n",
        "      aux = False \n",
        "  \n",
        "  # revisar - problema de indexación \n",
        "  if (aux): \n",
        "    verticales = [1,2,3] # Ganador - verticales\n",
        "    for j in verticales:\n",
        "      if (tablero[j] == jugador and tablero[j+3] == jugador and tablero[j+6] == jugador): \n",
        "        finalizado = True \n",
        "        aux = False  \n",
        "\n",
        "  if (aux):\n",
        "    # diagonal \n",
        "    if (tablero[1] ==jugador and tablero[5] ==jugador and tablero[9] ==jugador ):\n",
        "      finalizado = True\n",
        "    if (tablero[3] ==jugador and tablero[5] ==jugador and tablero[7] ==jugador ):\n",
        "      finalizado = True\n",
        "  \n",
        "  return finalizado"
      ],
      "execution_count": 5,
      "outputs": []
    },
    {
      "cell_type": "code",
      "metadata": {
        "id": "g3cB4rV4ycS8",
        "colab": {
          "base_uri": "https://localhost:8080/"
        },
        "outputId": "cdabad75-c46e-4901-c312-93877ce983b6"
      },
      "source": [
        "turnoDeJuego = 0 # contador de turnos \n",
        "tablero = [' ']*10 # tablero de juego \n",
        "seEstaJugando = True # juego en curso \n",
        "\n",
        "while (seEstaJugando): # juego en curso \n",
        "  usuario1, usuario2 = ['X','O']\n",
        "  usuario = ' '\n",
        "\n",
        "  if (turnoDeJuego%2 == 0): # hace el cambio de jugador \n",
        "    usuario = usuario1\n",
        "  else:\n",
        "    usuario = usuario2\n",
        "\n",
        "  turnoDeJuego += 1 # incrementa un turno \n",
        "  turno(usuario, tablero) # llamado a la función turno verifica : posición valida y dibuja tablero \n",
        "\n",
        "  if (revision_ganar(tablero, usuario)):\n",
        "    seEstaJugando = False\n",
        "    print('\\n' + ' '+usuario + ' ha ganado')\n",
        "    \n",
        "  if (turnoDeJuego == 9):\n",
        "    print( '\\n empatados')\n",
        "    seEstaJugando = False\n"
      ],
      "execution_count": 12,
      "outputs": [
        {
          "output_type": "stream",
          "text": [
            "Ingrese una posición 1\n",
            "   |   |    \n",
            "-----------\n",
            "   |   |    \n",
            "-----------\n",
            " X |   |    \n",
            "Ingrese una posición 4\n",
            "   |   |    \n",
            "-----------\n",
            " O |   |    \n",
            "-----------\n",
            " X |   |    \n",
            "Ingrese una posición 2\n",
            "   |   |    \n",
            "-----------\n",
            " O |   |    \n",
            "-----------\n",
            " X | X |    \n",
            "Ingrese una posición 5\n",
            "   |   |    \n",
            "-----------\n",
            " O | O |    \n",
            "-----------\n",
            " X | X |    \n",
            "Ingrese una posición 3\n",
            "   |   |    \n",
            "-----------\n",
            " O | O |    \n",
            "-----------\n",
            " X | X | X  \n",
            "\n",
            " X ha ganado\n"
          ],
          "name": "stdout"
        }
      ]
    },
    {
      "cell_type": "code",
      "metadata": {
        "id": "lNdOXxP8ZtXq"
      },
      "source": [
        ""
      ],
      "execution_count": null,
      "outputs": []
    }
  ]
}